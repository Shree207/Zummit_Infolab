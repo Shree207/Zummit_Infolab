{
 "cells": [
  {
   "cell_type": "code",
   "execution_count": 4,
   "id": "7292909b",
   "metadata": {},
   "outputs": [],
   "source": [
    "import cv2 as cv"
   ]
  },
  {
   "cell_type": "markdown",
   "id": "f344218c",
   "metadata": {},
   "source": [
    "# Reading image"
   ]
  },
  {
   "cell_type": "code",
   "execution_count": 1,
   "id": "1a308af1",
   "metadata": {},
   "outputs": [
    {
     "data": {
      "text/plain": [
       "-1"
      ]
     },
     "execution_count": 1,
     "metadata": {},
     "output_type": "execute_result"
    }
   ],
   "source": [
    "import cv2 as cv\n",
    "\n",
    "img = cv.imread('js.jpg')\n",
    "\n",
    "cv.imshow('js',img)\n",
    "cv.waitKey(0)"
   ]
  },
  {
   "cell_type": "markdown",
   "id": "20151b12",
   "metadata": {},
   "source": [
    "# Resizing"
   ]
  },
  {
   "cell_type": "code",
   "execution_count": 2,
   "id": "a7a99c5f",
   "metadata": {},
   "outputs": [
    {
     "data": {
      "text/plain": [
       "27"
      ]
     },
     "execution_count": 2,
     "metadata": {},
     "output_type": "execute_result"
    }
   ],
   "source": [
    "# from configparser import Interpolation\n",
    "import cv2 as cv\n",
    "\n",
    "img = cv.imread('js-big.jpg')\n",
    "cv.imshow('js big',img)\n",
    "\n",
    "def rescaleFrame(frame,scale=0.10):\n",
    "    width = frame.shape[1]*scale\n",
    "    height = frame.shape[0]*scale\n",
    "    dimensions = (int(width),int(height))\n",
    "\n",
    "    return cv.resize(frame,dimensions,interpolation=cv.INTER_AREA)\n",
    "\n",
    "cv.imshow('js-big',rescaleFrame(img))\n",
    "cv.waitKey(0)\n"
   ]
  },
  {
   "cell_type": "markdown",
   "id": "4cbad089",
   "metadata": {},
   "source": [
    "# shapes,text"
   ]
  },
  {
   "cell_type": "code",
   "execution_count": 1,
   "id": "06969f33",
   "metadata": {},
   "outputs": [
    {
     "data": {
      "text/plain": [
       "-1"
      ]
     },
     "execution_count": 1,
     "metadata": {},
     "output_type": "execute_result"
    }
   ],
   "source": [
    "import cv2 as cv\n",
    "import numpy as np\n",
    "\n",
    "blank = np.zeros((500,500,3),dtype='uint8') #creating a blank image\n",
    "cv.imshow('blank',blank)\n",
    "\n",
    "#paint\n",
    "blank[:] = 0,0,255\n",
    "cv.imshow('Red',blank)\n",
    "\n",
    "\n",
    "blank[200:300, 300:400] = 175,0,255\n",
    "cv.imshow('Red',blank)\n",
    "\n",
    "#rectangle\n",
    "cv.rectangle(blank, (0,0),(250,250),(255,0,0),thickness=-1) #-1 used to fill the color\n",
    "cv.imshow('rectangle',blank)\n",
    "\n",
    "#square\n",
    "cv.rectangle(blank, (0,0),(blank.shape[1]//2,blank.shape[0]//2),(0,0,0),thickness=-1) #-1 used to fill the color\n",
    "cv.imshow('square',blank)\n",
    "\n",
    "#circle\n",
    "cv.circle(blank,(250,250),50,(0,255,0),thickness=3)\n",
    "cv.imshow('circle',blank)\n",
    "\n",
    "#line\n",
    "cv.line(blank,(0,0),(blank.shape[1]//2,blank.shape[0]//2),(255,255,255),thickness=3)\n",
    "cv.imshow('line',blank)\n",
    "\n",
    "#text\n",
    "cv.putText(blank,'hi',(175,175),cv.FONT_HERSHEY_TRIPLEX,1.0,(255,255,255),2)\n",
    "cv.imshow('text',blank)\n",
    "\n",
    "cv.waitKey(0)\n"
   ]
  },
  {
   "cell_type": "markdown",
   "id": "7c943109",
   "metadata": {},
   "source": [
    "# Basic functions"
   ]
  },
  {
   "cell_type": "code",
   "execution_count": 2,
   "id": "eaf7df67",
   "metadata": {},
   "outputs": [
    {
     "data": {
      "text/plain": [
       "-1"
      ]
     },
     "execution_count": 2,
     "metadata": {},
     "output_type": "execute_result"
    }
   ],
   "source": [
    "import cv2 as cv\n",
    "\n",
    "img = cv.imread('js.jpg')\n",
    "cv.imshow('js',img)\n",
    "\n",
    "#Converting BGR-Grayscale image\n",
    "gray = cv.cvtColor(img,cv.COLOR_BGR2GRAY)\n",
    "cv.imshow('gray',gray)\n",
    "\n",
    "#Blur\n",
    "blur = cv.GaussianBlur(img,(5,5),cv.BORDER_DEFAULT)\n",
    "cv.imshow('blur',blur)\n",
    "\n",
    "#Canny Edge Detection\n",
    "canny1 = cv.Canny(img,150,200) #instead of passing img , blur can also be passed to have a plain effect\n",
    "cv.imshow('canny',canny1)#Finding edges\n",
    "\n",
    "#Canny Edge Detection\n",
    "canny = cv.Canny(blur,150,200) #blur can also be passed to have a plain effect\n",
    "cv.imshow('canny with blur',canny)#Canny Edge Detection\n",
    "\n",
    "#dilating\n",
    "dilated = cv.dilate(canny,(7,7),iterations=3)\n",
    "cv.imshow('dilated',dilated)\n",
    "\n",
    "#eroding\n",
    "eroded = cv.erode(dilated,(7,7),iterations=3)\n",
    "cv.imshow('eroded',eroded)\n",
    "\n",
    "#resize\n",
    "resized = cv.resize(img,(500,500))\n",
    "cv.imshow('resize',resized)\n",
    "\n",
    "#crop\n",
    "cropped = img[50:200,200:400]\n",
    "cv.imshow('crop',cropped)#cropped image\n",
    "\n",
    "\n",
    "cv.waitKey(0)\n"
   ]
  },
  {
   "cell_type": "markdown",
   "id": "20739d2d",
   "metadata": {},
   "source": [
    "# Image Transformations"
   ]
  },
  {
   "cell_type": "code",
   "execution_count": 3,
   "id": "7317f11d",
   "metadata": {},
   "outputs": [
    {
     "data": {
      "text/plain": [
       "-1"
      ]
     },
     "execution_count": 3,
     "metadata": {},
     "output_type": "execute_result"
    }
   ],
   "source": [
    "import cv2 as cv\n",
    "import numpy as np\n",
    "\n",
    "img = cv.imread('avengers.jpg')\n",
    "cv.imshow('avengers',img)\n",
    "\n",
    "#translation \n",
    "''' -x for left\n",
    "    -y for up\n",
    "     x for right\n",
    "     y for down'''\n",
    "\n",
    "def translate(img,x,y):\n",
    "    M = np.float32([[1,0,x],[0,1,y]])\n",
    "    dimensions = (img.shape[1],img.shape[0])\n",
    "    return cv.warpAffine(img,M,dimensions)\n",
    "\n",
    "translated = translate(img,100,100)\n",
    "cv.imshow('translate',translated)\n",
    "\n",
    "#Rotation\n",
    "def rotate(img,angle,rotatePoint=None):\n",
    "    (height,width) = img.shape[:2]\n",
    "    \n",
    "    if rotatePoint is None:\n",
    "        rotatePoint = (width//2,height//2)\n",
    "    \n",
    "    R = cv.getRotationMatrix2D(rotatePoint,angle,1.0)\n",
    "    dimensions = (width,height)\n",
    "    \n",
    "    return cv.warpAffine(img,R,dimensions)\n",
    "\n",
    "rotated = rotate(img,45) #By default it will rotate anti-clockwise , for clockwise pass negative value eg -45\n",
    "cv.imshow('rotated',rotated)\n",
    "\n",
    "#Resizing\n",
    "resized = cv.resize(img,(500,500),interpolation = cv.INTER_CUBIC)\n",
    "cv.imshow('resize',resized)\n",
    "\n",
    "#flipping \n",
    "'''0 for vertical\n",
    "1 for horizontal\n",
    "-1 for both'''\n",
    "# flipped = cv.flip(img,0) #vertical\n",
    "# flipped = cv.flip(img,1) #horizontal\n",
    "flipped = cv.flip(img,-1) #both\n",
    "cv.imshow('flipped',flipped)\n",
    "\n",
    "#Crop\n",
    "cropped = img[100:450,150:500]\n",
    "cv.imshow('cropped',cropped)\n",
    "cv.waitKey(0)"
   ]
  },
  {
   "cell_type": "markdown",
   "id": "fd31dc48",
   "metadata": {},
   "source": [
    "# Contour Detection"
   ]
  },
  {
   "cell_type": "code",
   "execution_count": 31,
   "id": "13452b28",
   "metadata": {},
   "outputs": [
    {
     "name": "stdout",
     "output_type": "stream",
     "text": [
      "516 contours found using canny\n",
      "270 contours found using thresh\n"
     ]
    },
    {
     "data": {
      "text/plain": [
       "-1"
      ]
     },
     "execution_count": 31,
     "metadata": {},
     "output_type": "execute_result"
    }
   ],
   "source": [
    "import cv2 as cv\n",
    "import numpy as np\n",
    "\n",
    "\n",
    "img = cv.imread('js.jpg')\n",
    "cv.imshow('js',img)\n",
    "\n",
    "blank = np.zeros(img.shape,dtype='uint8')\n",
    "cv.imshow('blank',blank)\n",
    "\n",
    "gray = cv.cvtColor(img,cv.COLOR_BGR2GRAY) #converting to a gray scale image\n",
    "cv.imshow('gray',gray)\n",
    "\n",
    "blur = cv.GaussianBlur(gray, (7,7),cv.BORDER_DEFAULT)#blurring\n",
    "cv.imshow('blur',blur)\n",
    "\n",
    "canny = cv.Canny(img,125,175) #Edge detection using Canny\n",
    "cv.imshow('canny',canny)\n",
    "\n",
    "ret,thresh = cv.threshold(gray,125,255,cv.THRESH_BINARY) #threshold used to binarise the image\n",
    "cv.imshow('thresh',thresh)\n",
    "\n",
    "contours,hierarchies = cv.findContours(canny,cv.RETR_LIST,cv.CHAIN_APPROX_SIMPLE) #passing canny\n",
    "print(f'{len(contours)} contours found using canny')\n",
    "\n",
    "contours,hierarchies = cv.findContours(thresh,cv.RETR_LIST,cv.CHAIN_APPROX_SIMPLE)#passing thresh\n",
    "print(f'{len(contours)} contours found using thresh')\n",
    "\n",
    "cv.drawContours(blank,contours,-1,(0,0,255),1)\n",
    "cv.imshow('contours drawn',blank)\n",
    "cv.waitKey(0)"
   ]
  },
  {
   "cell_type": "markdown",
   "id": "2dc43995",
   "metadata": {},
   "source": [
    "# Color spaces "
   ]
  },
  {
   "cell_type": "code",
   "execution_count": 32,
   "id": "e6143da7",
   "metadata": {},
   "outputs": [
    {
     "data": {
      "text/plain": [
       "-1"
      ]
     },
     "execution_count": 32,
     "metadata": {},
     "output_type": "execute_result"
    }
   ],
   "source": [
    "import cv2 as cv\n",
    "import matplotlib.pyplot as plt\n",
    "\n",
    "\n",
    "img = cv.imread('boston.jpg')\n",
    "cv.imshow('boston',img)\n",
    "\n",
    "''' opencv by default reads in BGR format \n",
    "whereas matplotlib by default read in RGB format'''\n",
    "# plt.imshow(img)\n",
    "# plt.show()\n",
    "\n",
    "#BGR to Gray scale\n",
    "gray = cv.cvtColor(img,cv.COLOR_BGR2GRAY)\n",
    "cv.imshow('gray',gray)\n",
    "\n",
    "#BGR to HSV (hue,saturation values)\n",
    "hsv = cv.cvtColor(img,cv.COLOR_BGR2HSV)\n",
    "cv.imshow('hsv',hsv)\n",
    "\n",
    "#BGR to lAB (l*a*b)\n",
    "lab = cv.cvtColor(img,cv.COLOR_BGR2LAB)\n",
    "cv.imshow('lab',lab)\n",
    "\n",
    "#BGR to RGB\n",
    "rgb = cv.cvtColor(img,cv.COLOR_BGR2RGB)\n",
    "cv.imshow('rgb',rgb)\n",
    "\n",
    "cv.waitKey(0)"
   ]
  },
  {
   "cell_type": "markdown",
   "id": "5d6668eb",
   "metadata": {},
   "source": [
    "# Color channels"
   ]
  },
  {
   "cell_type": "code",
   "execution_count": 5,
   "id": "e78910e6",
   "metadata": {},
   "outputs": [
    {
     "name": "stdout",
     "output_type": "stream",
     "text": [
      "(252, 404, 3) image shape \n",
      "(252, 404) Blue shape \n",
      "(252, 404) Green shape \n",
      "(252, 404) Red shape \n"
     ]
    },
    {
     "data": {
      "text/plain": [
       "-1"
      ]
     },
     "execution_count": 5,
     "metadata": {},
     "output_type": "execute_result"
    }
   ],
   "source": [
    "import cv2 as cv\n",
    "import numpy as np\n",
    "\n",
    "img = cv.imread('boston.jpg')\n",
    "cv.imshow('boston',img)\n",
    "\n",
    "blank = np.zeros(img.shape[:2],dtype='uint8')\n",
    "\n",
    "blue = cv.merge([b,blank,blank])\n",
    "green = cv.merge([blank,g,blank])\n",
    "red = cv.merge([blank,blank,r])\n",
    "\n",
    "cv.imshow('blue1',blue)\n",
    "cv.imshow('green1',green)\n",
    "cv.imshow('red1',red)\n",
    "\n",
    "b,g,r = cv.split(img) #splitting BGR into individual color components\n",
    "\n",
    "cv.imshow('blue',b)\n",
    "cv.imshow('green',g)\n",
    "cv.imshow('red',r)\n",
    "\n",
    "print(f'{img.shape} image shape ')\n",
    "print(f'{b.shape} Blue shape ')\n",
    "print(f'{g.shape} Green shape ')\n",
    "print(f'{r.shape} Red shape ')\n",
    "\n",
    "merged = cv.merge([b,g,r]) #Merging Color channels\n",
    "cv.imshow('merged',merged)\n",
    "\n",
    "cv.waitKey(0)"
   ]
  },
  {
   "cell_type": "markdown",
   "id": "e1cad1c2",
   "metadata": {},
   "source": [
    "# Blurring Techniques"
   ]
  },
  {
   "cell_type": "code",
   "execution_count": 13,
   "id": "838ab246",
   "metadata": {},
   "outputs": [
    {
     "data": {
      "text/plain": [
       "-1"
      ]
     },
     "execution_count": 13,
     "metadata": {},
     "output_type": "execute_result"
    }
   ],
   "source": [
    "import cv2 as cv\n",
    "\n",
    "img = cv.imread('cats.jpg')\n",
    "cv.imshow('cats',img)\n",
    "\n",
    "#Averaging  the middle pixel element would be the average of the neighboring pixels\n",
    "average = cv.blur(img,(3,3))\n",
    "cv.imshow('average',average)\n",
    "\n",
    "#Gaussianblur\n",
    "gauss = cv.GaussianBlur(img,(3,3),0)\n",
    "cv.imshow('gauss',gauss)\n",
    "\n",
    "#Median the middle pixel element would be the median of the neighboring pixels\n",
    "median = cv.medianBlur(img,3)\n",
    "cv.imshow('median',median)\n",
    "\n",
    "#Bilateral Blurring\n",
    "bilateral = cv.bilateralFilter(img,15,15,15)\n",
    "cv.imshow('bilateral',bilateral)\n",
    "\n",
    "cv.waitKey(0)"
   ]
  },
  {
   "cell_type": "markdown",
   "id": "46a9b7ab",
   "metadata": {},
   "source": [
    "# Bitwise Operations"
   ]
  },
  {
   "cell_type": "code",
   "execution_count": 19,
   "id": "f355ea66",
   "metadata": {},
   "outputs": [
    {
     "data": {
      "text/plain": [
       "-1"
      ]
     },
     "execution_count": 19,
     "metadata": {},
     "output_type": "execute_result"
    }
   ],
   "source": [
    "import cv2 as cv\n",
    "import numpy as np\n",
    "\n",
    "blank = np.zeros((400,400),dtype='uint8')\n",
    "\n",
    "rectangle = cv.rectangle(blank.copy(),(30,30),(350,350),255,-1)\n",
    "circle = cv.circle(blank.copy(),(200,200),200,255,-1)\n",
    "\n",
    "cv.imshow('rectangle',rectangle)\n",
    "cv.imshow('circle',circle)\n",
    "\n",
    "#bitwise AND returns the intersection of two images\n",
    "bitwise_and = cv.bitwise_and(rectangle,circle)\n",
    "cv.imshow('and',bitwise_and)\n",
    "\n",
    "#bitwise OR returns combination of two images\n",
    "bitwise_or = cv.bitwise_or(rectangle,circle)\n",
    "cv.imshow('or',bitwise_or)\n",
    "\n",
    "#bitwise Xor returns non intersecting regions\n",
    "bitwise_xor = cv.bitwise_xor(rectangle,circle)\n",
    "cv.imshow('xor',bitwise_xor)\n",
    "\n",
    "#bitwise not \n",
    "bitwise_not = cv.bitwise_not(rectangle)\n",
    "cv.imshow('not',bitwise_not)\n",
    "\n",
    "cv.waitKey(0)"
   ]
  },
  {
   "cell_type": "markdown",
   "id": "94830106",
   "metadata": {},
   "source": [
    "# Masking"
   ]
  },
  {
   "cell_type": "code",
   "execution_count": 33,
   "id": "539c1e71",
   "metadata": {},
   "outputs": [
    {
     "data": {
      "text/plain": [
       "-1"
      ]
     },
     "execution_count": 33,
     "metadata": {},
     "output_type": "execute_result"
    }
   ],
   "source": [
    "import cv2 as cv\n",
    "import numpy as np\n",
    "#Masking is the way of focusing on part of the image\n",
    "\n",
    "img = cv.imread('cats.jpg')\n",
    "cv.imshow('cats',img)\n",
    "\n",
    "blank = np.zeros(img.shape[:2],dtype='uint8')\n",
    "cv.imshow('blank',blank)\n",
    "\n",
    "circle = cv.circle(blank,(img.shape[1]//2,img.shape[0]//2),100,255,-1)\n",
    "cv.imshow('circle',circle)\n",
    "\n",
    "masked = cv.bitwise_and(img,img,mask=mask)\n",
    "cv.imshow('masked',masked)\n",
    "\n",
    "\n",
    "\n",
    "cv.waitKey(0)"
   ]
  },
  {
   "cell_type": "markdown",
   "id": "5a65bd72",
   "metadata": {},
   "source": [
    "# Computing Histograms"
   ]
  },
  {
   "cell_type": "code",
   "execution_count": 10,
   "id": "6d167da9",
   "metadata": {},
   "outputs": [
    {
     "data": {
      "image/png": "[encoded data removed]",
      "text/plain": [
       "<Figure size 432x288 with 1 Axes>"
      ]
     },
     "metadata": {
      "needs_background": "light"
     },
     "output_type": "display_data"
    },
    {
     "data": {
      "image/png": "[encoded data removed]",
      "text/plain": [
       "<Figure size 432x288 with 1 Axes>"
      ]
     },
     "metadata": {
      "needs_background": "light"
     },
     "output_type": "display_data"
    },
    {
     "data": {
      "text/plain": [
       "-1"
      ]
     },
     "execution_count": 10,
     "metadata": {},
     "output_type": "execute_result"
    }
   ],
   "source": [
    "#Histograms helps in visualizing pixel distrubutions in image\n",
    "import cv2 as cv\n",
    "import matplotlib.pyplot as plt\n",
    "import numpy as np\n",
    "\n",
    "img = cv.imread('cats.jpg')\n",
    "cv.imshow('cat',img)\n",
    "\n",
    "blank = np.zeros(img.shape[:2],dtype='uint8')\n",
    "cv.imshow('blank',blank)\n",
    "\n",
    "gray = cv.cvtColor(img,cv.COLOR_BGR2GRAY)\n",
    "cv.imshow('gray',gray)\n",
    "\n",
    "circle = cv.circle(blank,(img.shape[1]//2,img.shape[0]//2),100,225,-1)\n",
    "cv.imshow('circle',circle)\n",
    "\n",
    "mask = cv.bitwise_and(gray,gray,mask=circle)\n",
    "cv.imshow('mask',mask)\n",
    "\n",
    "#grayscale histogram\n",
    "gray_hist = cv.calcHist([gray],[0],mask,[256],[0,256])\n",
    "\n",
    "plt.figure()\n",
    "plt.title('Grayscale Histogram')\n",
    "plt.xlabel('Bins')\n",
    "plt.ylabel('Number of pixels')\n",
    "plt.plot(gray_hist)\n",
    "plt.xlim([0,256])\n",
    "plt.show()\n",
    "\n",
    "circle1 = cv.circle(blank,(img.shape[1]//2,img.shape[0]//2),100,225,-1)# In[ ]:\n",
    "cv.imshow('circle1',circle1)\n",
    "\n",
    "mask1 = cv.bitwise_and(img,img,mask=circle)\n",
    "cv.imshow('mask1',mask1)\n",
    "#color histogram\n",
    "colors = ('b','g','r')\n",
    "for i,col in enumerate(colors):\n",
    "    hist = cv.calcHist([img],[i],mask,[256],[0,256])\n",
    "    plt.plot(hist,color=col)\n",
    "    plt.xlim([0,256])\n",
    "    \n",
    "plt.show()\n",
    "\n",
    "\n",
    "cv.waitKey(0)"
   ]
  },
  {
   "cell_type": "markdown",
   "id": "dbc1adab",
   "metadata": {},
   "source": [
    "# Thresholding"
   ]
  },
  {
   "cell_type": "code",
   "execution_count": 19,
   "id": "ff559255",
   "metadata": {},
   "outputs": [
    {
     "data": {
      "text/plain": [
       "-1"
      ]
     },
     "execution_count": 19,
     "metadata": {},
     "output_type": "execute_result"
    }
   ],
   "source": [
    "import cv2 as cv\n",
    "\n",
    "\n",
    "img = cv.imread('cats.jpg')\n",
    "cv.imshow('cats',img)\n",
    "\n",
    "gray = cv.cvtColor(img,cv.COLOR_BGR2GRAY)\n",
    "cv.imshow('gray',gray)\n",
    "\n",
    "#simple thresholding\n",
    "thresholding,thresh = cv.threshold(gray,150,255,cv.THRESH_BINARY)  \n",
    "cv.imshow('simple threshold',thresh)\n",
    "\n",
    "thresholding,thresh_inv = cv.threshold(gray,150,255,cv.THRESH_BINARY_INV)\n",
    "cv.imshow('simple threshold inv',thresh_inv)\n",
    "\n",
    "#adaptive thresholding\n",
    "adaptive_thresh = cv.adaptiveThreshold(gray,255,cv.ADAPTIVE_THRESH_MEAN_C,cv.THRESH_BINARY,11,3)\n",
    "cv.imshow('adaptive thresh',adaptive_thresh)\n",
    "\n",
    "adaptive_thresh_inv = cv.adaptiveThreshold(gray,255,cv.ADAPTIVE_THRESH_MEAN_C,cv.THRESH_BINARY_INV,11,3)\n",
    "cv.imshow('adaptive thresh inv',adaptive_thresh_inv)\n",
    "\n",
    "\n",
    "cv.waitKey(0)"
   ]
  },
  {
   "cell_type": "markdown",
   "id": "2aa598bd",
   "metadata": {},
   "source": [
    "# Edge detection"
   ]
  },
  {
   "cell_type": "code",
   "execution_count": 34,
   "id": "a8a7f4cc",
   "metadata": {},
   "outputs": [
    {
     "data": {
      "text/plain": [
       "-1"
      ]
     },
     "execution_count": 34,
     "metadata": {},
     "output_type": "execute_result"
    }
   ],
   "source": [
    "import cv2 as cv\n",
    "\n",
    "img = cv.imread('boston.jpg')\n",
    "cv.imshow('img',img)\n",
    "\n",
    "gray = cv.cvtColor(img,cv.COLOR_BGR2GRAY)\n",
    "cv.imshow('gray',gray)\n",
    "\n",
    "#laplacian \n",
    "lap = cv.Laplacian(gray,cv.CV_64F)\n",
    "lap = np.uint8(np.absolute(lap))\n",
    "cv.imshow('Laplacian',lap)\n",
    "\n",
    "#sobel\n",
    "sobelx = cv.Sobel(gray,cv.CV_64F,1,0)#sobelx\n",
    "sobely = cv.Sobel(gray,cv.CV_64F,0,1)#sobely\n",
    "combined_sobel = cv.bitwise_or(sobelx,sobely)\n",
    "\n",
    "cv.imshow('sobel x',sobelx)\n",
    "cv.imshow('Sobel combined',combined_sobel)\n",
    "cv.imshow('sobel y',sobely)\n",
    "\n",
    "#canny\n",
    "canny = cv.Canny(gray,150,175)\n",
    "cv.imshow('canny',canny)\n",
    "cv.waitKey(0)"
   ]
  },
  {
   "cell_type": "markdown",
   "id": "d3e45a15",
   "metadata": {},
   "source": [
    "# Face Detection using HaarCascade"
   ]
  },
  {
   "cell_type": "code",
   "execution_count": 6,
   "id": "bec05844",
   "metadata": {},
   "outputs": [
    {
     "name": "stdout",
     "output_type": "stream",
     "text": [
      "Number of faces found = 2\n"
     ]
    },
    {
     "data": {
      "text/plain": [
       "-1"
      ]
     },
     "execution_count": 6,
     "metadata": {},
     "output_type": "execute_result"
    }
   ],
   "source": [
    "import cv2 as cv\n",
    "\n",
    "img = cv.imread('bale.jpg')\n",
    "cv.imshow('bale', img)\n",
    "\n",
    "gray = cv.cvtColor(img, cv.COLOR_BGR2GRAY)\n",
    "cv.imshow('Gray People', gray)\n",
    "\n",
    "haar_cascade = cv.CascadeClassifier('haarcascade_frontalface_default.xml')\n",
    "\n",
    "faces_rect = haar_cascade.detectMultiScale(gray, scaleFactor=1.1, minNeighbors=3)\n",
    "\n",
    "print(f'Number of faces found = {len(faces_rect)}')\n",
    "\n",
    "for (x,y,w,h) in faces_rect:\n",
    "    cv.rectangle(img, (x,y), (x+w,y+h), (0,255,0), thickness=2)\n",
    "\n",
    "cv.imshow('Detected Faces', img)\n",
    "cv.waitKey(0)"
   ]
  },
  {
   "cell_type": "code",
   "execution_count": null,
   "id": "824d8dcd",
   "metadata": {},
   "outputs": [],
   "source": []
  }
 ],
 "metadata": {
  "kernelspec": {
   "display_name": "Python 3 (ipykernel)",
   "language": "python",
   "name": "python3"
  },
  "language_info": {
   "codemirror_mode": {
    "name": "ipython",
    "version": 3
   },
   "file_extension": ".py",
   "mimetype": "text/x-python",
   "name": "python",
   "nbconvert_exporter": "python",
   "pygments_lexer": "ipython3",
   "version": "3.9.7"
  }
 },
 "nbformat": 4,
 "nbformat_minor": 5
}
